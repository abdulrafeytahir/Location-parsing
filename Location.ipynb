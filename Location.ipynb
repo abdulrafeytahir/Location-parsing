{
 "cells": [
  {
   "cell_type": "code",
   "execution_count": 1,
   "metadata": {},
   "outputs": [],
   "source": [
    "import pandas as pd\n",
    "import re\n",
    "import itertools\n",
    "import flag\n",
    "# !pip install emoji-country-flag"
   ]
  },
  {
   "cell_type": "code",
   "execution_count": 2,
   "metadata": {},
   "outputs": [],
   "source": [
    "def readStopWords(fileName='stopwords.txt'):\n",
    "    # read list of stopwords from text file\n",
    "    fd = open(fileName)\n",
    "    line = fd.read()\n",
    "    stopwords = line.splitlines()\n",
    "    fd.close()\n",
    "    return stopwords"
   ]
  },
  {
   "cell_type": "code",
   "execution_count": 3,
   "metadata": {},
   "outputs": [],
   "source": [
    "def removePuncs(text, stopwords):\n",
    "    # convert to lower case\n",
    "    text = text.lower()\n",
    "    \n",
    "    # convert text to a list of words   \n",
    "    listWord = text.split()\n",
    "    \n",
    "    # remove punctuations and digits\n",
    "    puncs = r\"[!\\(\\)\\-\\[\\]\\{\\};'\\\":\\\\,<>\\./\\?@#\\$%^&\\*_~0-9]\"\n",
    "    listWord = [re.sub(puncs,'',word) for word in listWord]\n",
    "    listWord = [word for word in listWord if word not in stopwords and len(word)>0]\n",
    "    \n",
    "    return listWord"
   ]
  },
  {
   "cell_type": "code",
   "execution_count": 4,
   "metadata": {},
   "outputs": [],
   "source": [
    "def n_grams(terms):\n",
    "    three_grams = [' '.join(i) for i in itertools.combinations(terms, 3)]\n",
    "    two_grams = [' '.join(i) for i in itertools.combinations(terms, 2)]\n",
    "    one_grams = [' '.join(i) for i in itertools.combinations(terms, 1)]\n",
    "    return three_grams, two_grams, one_grams"
   ]
  },
  {
   "cell_type": "code",
   "execution_count": 5,
   "metadata": {},
   "outputs": [],
   "source": [
    "def get_locations(terms, cities='worldcities.csv'):\n",
    "    df = pd.read_csv(cities)\n",
    "    cols = ['city', 'city_ascii','state', 'country', 'iso2', 'iso3']\n",
    "    for c in cols:\n",
    "        df[c] = df[c].str.lower()\n",
    "    locations = pd.DataFrame(columns=cols)\n",
    "    for c in cols:\n",
    "        for t in terms:\n",
    "            if t in df[c].values and t not in locations[c].values:\n",
    "                data = df[df[c] == t][cols].iloc[0]\n",
    "                loc = {}\n",
    "                if c == 'city':\n",
    "                    loc['city'] = data['city']\n",
    "                    loc['city_ascii'] = data['city_ascii']\n",
    "                    loc['state'] = data['state']\n",
    "                    loc['country'] = data['country']\n",
    "                    loc['iso2'] = data['iso2']\n",
    "                    loc['iso3'] = data['iso3']\n",
    "                elif c == 'state':\n",
    "                    loc['state'] = t\n",
    "                    loc['country'] = data['country']\n",
    "                    loc['iso2'] = data['iso2']\n",
    "                    loc['iso3'] = data['iso3']\n",
    "                elif c == 'country':\n",
    "                    loc['country'] = t\n",
    "                    loc['iso2'] = data['iso2']\n",
    "                    loc['iso3'] = data['iso3']\n",
    "                elif c == 'iso2' or c == 'iso3':\n",
    "                    loc['country'] = data['country']\n",
    "                    loc['iso2'] = data['iso2']\n",
    "                    loc['iso3'] = data['iso3']\n",
    "                \n",
    "                locations = locations.append(loc, ignore_index=True)\n",
    "                \n",
    "    locations = locations.drop_duplicates()\n",
    "    for c in cols:\n",
    "        if c == 'iso2' or c == 'iso3':\n",
    "            locations[c] = locations[c].str.upper()\n",
    "        else:\n",
    "            locations[c] = locations[c].str.title()\n",
    "    \n",
    "    return locations.to_dict(orient='records')"
   ]
  },
  {
   "cell_type": "code",
   "execution_count": 6,
   "metadata": {},
   "outputs": [],
   "source": [
    "text = \"I live in Lahore 🇵🇰. I would like to visit Ibiza 🇪🇸\"\n",
    "place = flag.dflagize(text)\n",
    "text_size = len(place)\n",
    "start_index = place.find(':')\n",
    "end_index = -1\n",
    "start_prev, end_prev = 0, 0\n",
    "rep = {}\n",
    "\n",
    "while(start_index > -1):\n",
    "    start_index += 1\n",
    "    end_index = start_index + 1 + place[start_index+1:].find(':')\n",
    "    emoji_loc = place[start_index:end_index] \n",
    "    rep[emoji_loc] = (start_index+start_prev-1, end_index+end_prev)\n",
    "    start_prev, end_prev = start_index, end_index\n",
    "    place = place[end_index+1:]\n",
    "    start_index = place.find(':')\n",
    "    \n",
    "for key in rep.keys():\n",
    "    text = text.replace(text[rep[key][0]:rep[key][1]], key)"
   ]
  },
  {
   "cell_type": "code",
   "execution_count": 7,
   "metadata": {},
   "outputs": [],
   "source": [
    "stopwords = readStopWords(fileName='stopwords.txt')\n",
    "terms = removePuncs(text, stopwords)\n",
    "three_grams, two_grams, one_grams = n_grams(terms)\n",
    "locations = get_locations(three_grams)\n",
    "if len(locations) == 0:\n",
    "    locations = get_locations(two_grams)\n",
    "    if len(locations) == 0:\n",
    "        locations = get_locations(one_grams)"
   ]
  },
  {
   "cell_type": "code",
   "execution_count": 8,
   "metadata": {},
   "outputs": [
    {
     "data": {
      "text/plain": [
       "[{'city': 'Lahore',\n",
       "  'city_ascii': 'Lahore',\n",
       "  'state': 'Punjab',\n",
       "  'country': 'Pakistan',\n",
       "  'iso2': 'PK',\n",
       "  'iso3': 'PAK'},\n",
       " {'city': 'Ibiza',\n",
       "  'city_ascii': 'Ibiza',\n",
       "  'state': 'Balearic Islands',\n",
       "  'country': 'Spain',\n",
       "  'iso2': 'ES',\n",
       "  'iso3': 'ESP'}]"
      ]
     },
     "execution_count": 8,
     "metadata": {},
     "output_type": "execute_result"
    }
   ],
   "source": [
    "locations"
   ]
  },
  {
   "cell_type": "code",
   "execution_count": null,
   "metadata": {},
   "outputs": [],
   "source": []
  }
 ],
 "metadata": {
  "kernelspec": {
   "display_name": "Python 3",
   "language": "python",
   "name": "python3"
  },
  "language_info": {
   "codemirror_mode": {
    "name": "ipython",
    "version": 3
   },
   "file_extension": ".py",
   "mimetype": "text/x-python",
   "name": "python",
   "nbconvert_exporter": "python",
   "pygments_lexer": "ipython3",
   "version": "3.8.2"
  }
 },
 "nbformat": 4,
 "nbformat_minor": 4
}
